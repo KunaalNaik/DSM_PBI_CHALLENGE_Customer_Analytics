{
 "cells": [
  {
   "cell_type": "code",
   "execution_count": 1,
   "id": "14a80c2d-b7df-479e-9e81-6d21a0b2510a",
   "metadata": {},
   "outputs": [],
   "source": [
    "import pandas as pd\n",
    "import numpy as np\n",
    "\n",
    "# Setting a random seed for reproducibility\n",
    "np.random.seed(42)\n",
    "\n",
    "# Generate a date range for the monthly data (for 3 years to get a good amount of data)\n",
    "date_range = pd.date_range(start='2020-01-01', end='2022-12-31', freq='M')\n",
    "\n",
    "# Number of rows (one for each month)\n",
    "num_rows = len(date_range)\n",
    "\n",
    "# Generate random data for each KPI metric\n",
    "data = {\n",
    "    'Date': date_range,\n",
    "    'Monthly Sales': np.random.randint(100000, 200000, size=num_rows),\n",
    "    'Average Transaction Value': np.random.randint(50, 200, size=num_rows),\n",
    "    'Customer Retention Rate': np.random.uniform(0.5, 0.9, size=num_rows),\n",
    "    'New Customers Acquired': np.random.randint(100, 1000, size=num_rows),\n",
    "}\n",
    "\n",
    "# Create a DataFrame from the data\n",
    "df = pd.DataFrame(data)\n",
    "\n",
    "# Generate random data for product category sales\n",
    "product_categories = ['Electronics', 'Furniture', 'Groceries', 'Clothing', 'Accessories']\n",
    "for category in product_categories:\n",
    "    df[f'{category} Sales'] = np.random.randint(10000, 50000, size=num_rows)\n",
    "\n",
    "# Generate random data for customer demographics\n",
    "demographics = {\n",
    "    'Age 18-25': np.random.randint(50, 200, size=num_rows),\n",
    "    'Age 26-35': np.random.randint(100, 300, size=num_rows),\n",
    "    'Age 36-45': np.random.randint(80, 250, size=num_rows),\n",
    "    'Age 46-60': np.random.randint(60, 200, size=num_rows),\n",
    "    'Age 60+': np.random.randint(30, 100, size=num_rows),\n",
    "    'Male': np.random.randint(100, 500, size=num_rows),\n",
    "    'Female': np.random.randint(100, 500, size=num_rows),\n",
    "    'Other': np.random.randint(10, 50, size=num_rows),\n",
    "}\n",
    "for demo, values in demographics.items():\n",
    "    df[demo] = values\n",
    "\n",
    "# Generate random data for peak shopping hours\n",
    "peak_hours = ['Morning (6-12)', 'Afternoon (12-18)', 'Evening (18-24)', 'Night (0-6)']\n",
    "for hour in peak_hours:\n",
    "    df[hour] = np.random.randint(100, 1000, size=num_rows)\n",
    "\n",
    "# Display the first few rows of the DataFrame\n",
    "df.head()\n",
    "\n",
    "# Save the DataFrame to a CSV file\n",
    "df.to_csv('Retail_Dashboard_Data.csv', index=False)\n"
   ]
  },
  {
   "cell_type": "code",
   "execution_count": null,
   "id": "145332ea-b1be-4e7a-b7a0-3c9d8c252f1b",
   "metadata": {},
   "outputs": [],
   "source": []
  }
 ],
 "metadata": {
  "kernelspec": {
   "display_name": "Python 3 (ipykernel)",
   "language": "python",
   "name": "python3"
  },
  "language_info": {
   "codemirror_mode": {
    "name": "ipython",
    "version": 3
   },
   "file_extension": ".py",
   "mimetype": "text/x-python",
   "name": "python",
   "nbconvert_exporter": "python",
   "pygments_lexer": "ipython3",
   "version": "3.10.9"
  }
 },
 "nbformat": 4,
 "nbformat_minor": 5
}
